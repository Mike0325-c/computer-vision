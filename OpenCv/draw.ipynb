{
 "cells": [
  {
   "cell_type": "code",
   "execution_count": 8,
   "metadata": {},
   "outputs": [
    {
     "data": {
      "text/plain": [
       "-1"
      ]
     },
     "execution_count": 8,
     "metadata": {},
     "output_type": "execute_result"
    }
   ],
   "source": [
    "import cv2 as cv\n",
    "import numpy as np\n",
    "\n",
    "\n",
    "blank = np.zeros((500,500,3), dtype='uint8')\n",
    "# cv.imshow('Blank',blank)\n",
    "# read a image\n",
    "# img = cv.imread('Resources/Photos/cat.jpg')\n",
    "# print(img)\n",
    "\n",
    "# blank[:,:,2] = 255\n",
    "blank[100:200,400:450] = 0,0,255\n",
    "cv.imshow('Red',blank)\n",
    "cv.waitKey(0)\n",
    "\n"
   ]
  },
  {
   "cell_type": "code",
   "execution_count": 22,
   "metadata": {},
   "outputs": [
    {
     "data": {
      "text/plain": [
       "-1"
      ]
     },
     "execution_count": 22,
     "metadata": {},
     "output_type": "execute_result"
    }
   ],
   "source": [
    "\n",
    "# draw a recangle\n",
    "\n",
    "cv.rectangle(blank,(0,0),(450,250), (0,255,0), thickness=cv.FILLED)\n",
    "cv.imshow('Rectangle', blank)\n",
    "cv.waitKey(0)"
   ]
  },
  {
   "cell_type": "code",
   "execution_count": 21,
   "metadata": {},
   "outputs": [
    {
     "data": {
      "text/plain": [
       "-1"
      ]
     },
     "execution_count": 21,
     "metadata": {},
     "output_type": "execute_result"
    }
   ],
   "source": [
    "cv.circle(blank,(100,250), 50,(0,0,255),thickness=-1)\n",
    "cv.imshow('cat',blank)\n",
    "cv.waitKey(0)"
   ]
  },
  {
   "cell_type": "code",
   "execution_count": 28,
   "metadata": {},
   "outputs": [
    {
     "data": {
      "text/plain": [
       "-1"
      ]
     },
     "execution_count": 28,
     "metadata": {},
     "output_type": "execute_result"
    }
   ],
   "source": [
    "blank1 = np.zeros((500,500,3), dtype='uint8')\n",
    "cv.line(blank1,(50,200),(300,350),(255,255,255),thickness=3)\n",
    "cv.imshow('line',blank1)\n",
    "\n",
    "cv.waitKey(0)"
   ]
  },
  {
   "cell_type": "code",
   "execution_count": 27,
   "metadata": {},
   "outputs": [
    {
     "data": {
      "text/plain": [
       "-1"
      ]
     },
     "execution_count": 27,
     "metadata": {},
     "output_type": "execute_result"
    }
   ],
   "source": [
    "blank_text = np.zeros((500,500,3), dtype='uint8')\n",
    "cv.putText(blank_text,'Hel2lo',(215,225),cv.FONT_HERSHEY_COMPLEX,1.0,(0,255,2),2)\n",
    "cv.imshow('Text',blank_text)\n",
    "cv.waitKey(0)"
   ]
  }
 ],
 "metadata": {
  "kernelspec": {
   "display_name": "Python 3",
   "language": "python",
   "name": "python3"
  },
  "language_info": {
   "codemirror_mode": {
    "name": "ipython",
    "version": 3
   },
   "file_extension": ".py",
   "mimetype": "text/x-python",
   "name": "python",
   "nbconvert_exporter": "python",
   "pygments_lexer": "ipython3",
   "version": "3.10.5"
  }
 },
 "nbformat": 4,
 "nbformat_minor": 2
}
