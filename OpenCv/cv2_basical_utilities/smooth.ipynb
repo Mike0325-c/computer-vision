{
 "cells": [
  {
   "cell_type": "code",
   "execution_count": 1,
   "metadata": {},
   "outputs": [
    {
     "data": {
      "text/plain": [
       "-1"
      ]
     },
     "execution_count": 1,
     "metadata": {},
     "output_type": "execute_result"
    }
   ],
   "source": [
    "#pylint:disable=no-member\n",
    "\n",
    "import cv2 as cv\n",
    "\n",
    "img = cv.imread('../Resources/Photos/cats.jpg')\n",
    "cv.imshow('Cats', img)\n",
    "\n",
    "# Averaging\n",
    "average = cv.blur(img, (3,3))\n",
    "cv.imshow('Average Blur', average)\n",
    "\n",
    "# Gaussian Blur\n",
    "gauss = cv.GaussianBlur(img, (3,3), 0)\n",
    "cv.imshow('Gaussian Blur', gauss)\n",
    "\n",
    "# Median Blur\n",
    "median = cv.medianBlur(img, 3)\n",
    "cv.imshow('Median Blur', median)\n",
    "\n",
    "# Bilateral\n",
    "# sophisticated image blurring technique that smooths images while preserving edges\n",
    "bilateral = cv.bilateralFilter(img, 10, 35, 25)\n",
    "cv.imshow('Bilateral', bilateral)\n",
    "\n",
    "cv.waitKey(0)"
   ]
  }
 ],
 "metadata": {
  "kernelspec": {
   "display_name": "Python 3",
   "language": "python",
   "name": "python3"
  },
  "language_info": {
   "codemirror_mode": {
    "name": "ipython",
    "version": 3
   },
   "file_extension": ".py",
   "mimetype": "text/x-python",
   "name": "python",
   "nbconvert_exporter": "python",
   "pygments_lexer": "ipython3",
   "version": "3.10.5"
  }
 },
 "nbformat": 4,
 "nbformat_minor": 2
}
