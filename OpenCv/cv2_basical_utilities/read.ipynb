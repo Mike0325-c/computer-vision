{
 "cells": [
  {
   "cell_type": "code",
   "execution_count": 1,
   "metadata": {},
   "outputs": [
    {
     "data": {
      "text/plain": [
       "-1"
      ]
     },
     "execution_count": 1,
     "metadata": {},
     "output_type": "execute_result"
    }
   ],
   "source": [
    "import cv2 as cv\n",
    "\n",
    "# read a image and return a matrix of pixel\n",
    "img = cv.imread('../Resources/Photos/cat.jpg')\n",
    "\n",
    "# display the message as a new window\n",
    "cv.imshow('Cat',img)\n",
    "\n",
    "# wait forever for a key event\n",
    "cv.waitKey(0)\n"
   ]
  },
  {
   "cell_type": "code",
   "execution_count": 3,
   "metadata": {},
   "outputs": [
    {
     "name": "stdout",
     "output_type": "stream",
     "text": [
      "frames per second = 29.97002997002997\n",
      "total number of frames = 336\n",
      "duration of the video (in sec) = 11.2112\n"
     ]
    }
   ],
   "source": [
    "# reading video basically either takes a integer argument or a video path\n",
    "# 0 for webcam(would reference your webcam)\n",
    "# 1 for first camera\n",
    "capture = cv.VideoCapture(\"../Resources/Videos/dog.mp4\")\n",
    "\n",
    "#Check if video opened successfully\n",
    "if (capture.isOpened()== False): \n",
    "    print(\"Error opening video stream or file\")\n",
    "\n",
    "#fram/sec in video and duration of it\n",
    "fps = capture.get(cv.CAP_PROP_FPS)\n",
    "\n",
    "# FPS = Frame/sec\n",
    "print('frames per second =',fps)\n",
    "\n",
    "\n",
    "#total number of frames\n",
    "length = int(capture.get(cv.CAP_PROP_FRAME_COUNT))\n",
    "print('total number of frames =',length)\n",
    "print('duration of the video (in sec) =',length/fps)\n",
    "\n",
    "capture.set(cv.CAP_PROP_POS_FRAMES, 20)\n",
    "ret, frame = capture.read()\n",
    "cv.imshow('Frame 1002', frame)\n",
    "\n",
    "cv.waitKey(0)\n",
    "cv.destroyAllWindows()\n",
    "\n",
    "\n",
    "while True:\n",
    "    # read the video frame by frame\n",
    "    isTrue, frame = capture.read()\n",
    "    cv.imshow('Video',frame)\n",
    "\n",
    "    # if cv.waitKey(20) & 0xFF==ord('d'):\n",
    "    #     break\n",
    "    \n",
    "    if cv.waitKey(2) == 27:\n",
    "         break\n",
    "    \n",
    "capture.release()\n",
    "cv.destroyAllWindows()"
   ]
  }
 ],
 "metadata": {
  "kernelspec": {
   "display_name": "Python 3",
   "language": "python",
   "name": "python3"
  },
  "language_info": {
   "codemirror_mode": {
    "name": "ipython",
    "version": 3
   },
   "file_extension": ".py",
   "mimetype": "text/x-python",
   "name": "python",
   "nbconvert_exporter": "python",
   "pygments_lexer": "ipython3",
   "version": "3.10.13"
  }
 },
 "nbformat": 4,
 "nbformat_minor": 2
}
