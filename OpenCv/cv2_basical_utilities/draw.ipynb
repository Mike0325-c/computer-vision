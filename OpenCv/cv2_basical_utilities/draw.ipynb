{
 "cells": [
  {
   "cell_type": "code",
   "execution_count": 11,
   "metadata": {},
   "outputs": [
    {
     "data": {
      "text/plain": [
       "-1"
      ]
     },
     "execution_count": 11,
     "metadata": {},
     "output_type": "execute_result"
    }
   ],
   "source": [
    "import cv2 as cv\n",
    "import numpy as np\n",
    "\n",
    "blank = np.zeros((500,500,3), dtype='uint8')\n",
    "cv.imshow('Blank', blank)\n",
    "\n",
    "\n",
    "# 1. Paint the image a certain colour\n",
    "blank[100:200, 300:400] = 0,0,255\n",
    "cv.imshow('Green', blank)\n",
    "\n",
    "cv.waitKey(0)"
   ]
  },
  {
   "cell_type": "code",
   "execution_count": 26,
   "metadata": {},
   "outputs": [
    {
     "data": {
      "text/plain": [
       "-1"
      ]
     },
     "execution_count": 26,
     "metadata": {},
     "output_type": "execute_result"
    }
   ],
   "source": [
    "# draw a recangle\n",
    "blank = np.zeros((500,500,3), dtype='uint8')\n",
    "# thickness can be 1,2,-1\n",
    "cv.rectangle(blank,(0,1),(100,450), (0,0,255), thickness=1)\n",
    "cv.imshow('Rectangle', blank)\n",
    "cv.waitKey(0)"
   ]
  },
  {
   "cell_type": "code",
   "execution_count": 30,
   "metadata": {},
   "outputs": [
    {
     "data": {
      "text/plain": [
       "-1"
      ]
     },
     "execution_count": 30,
     "metadata": {},
     "output_type": "execute_result"
    }
   ],
   "source": [
    "# draw a circle\n",
    "blank = np.zeros((500,500,3), dtype='uint8')\n",
    "\n",
    "# parameter - blane, start point(center), radius, color\n",
    "cv.circle(blank,(300,450), 150,(0,0,255),thickness=-1)\n",
    "\n",
    "cv.imshow('cat',blank)\n",
    "cv.waitKey(0)"
   ]
  },
  {
   "cell_type": "code",
   "execution_count": 33,
   "metadata": {},
   "outputs": [
    {
     "data": {
      "text/plain": [
       "-1"
      ]
     },
     "execution_count": 33,
     "metadata": {},
     "output_type": "execute_result"
    }
   ],
   "source": [
    "# draw a line\n",
    "blank1 = np.zeros((500,500,3), dtype='uint8')\n",
    "\n",
    "# parameter - blank, the start point, the end point\n",
    "cv.line(blank1,(150,200),(300,350),(255,255,255),thickness=3)\n",
    "cv.imshow('line',blank1)\n",
    "\n",
    "cv.waitKey(0)"
   ]
  },
  {
   "cell_type": "code",
   "execution_count": 34,
   "metadata": {},
   "outputs": [
    {
     "data": {
      "text/plain": [
       "-1"
      ]
     },
     "execution_count": 34,
     "metadata": {},
     "output_type": "execute_result"
    }
   ],
   "source": [
    "# draw some text\n",
    "blank_text = np.zeros((500,500,3), dtype='uint8')\n",
    "\n",
    "cv.putText(blank_text,'Hel2lo',(215,225),cv.FONT_HERSHEY_COMPLEX,1.0,(0,255,2),2)\n",
    "cv.imshow('Text',blank_text)\n",
    "cv.waitKey(0)"
   ]
  }
 ],
 "metadata": {
  "kernelspec": {
   "display_name": "Python 3",
   "language": "python",
   "name": "python3"
  },
  "language_info": {
   "codemirror_mode": {
    "name": "ipython",
    "version": 3
   },
   "file_extension": ".py",
   "mimetype": "text/x-python",
   "name": "python",
   "nbconvert_exporter": "python",
   "pygments_lexer": "ipython3",
   "version": "3.10.13"
  }
 },
 "nbformat": 4,
 "nbformat_minor": 2
}
