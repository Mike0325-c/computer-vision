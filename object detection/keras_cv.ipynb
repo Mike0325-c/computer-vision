{
 "cells": [
  {
   "cell_type": "code",
   "execution_count": 13,
   "metadata": {},
   "outputs": [],
   "source": [
    "#I follow this website to write code https://keras.io/keras_cv/\n",
    "import os\n",
    "\n",
    "import matplotlib.pyplot as plt\n",
    "import numpy as np\n",
    "import pandas as pd\n",
    "import tensorflow as tf\n",
    "import keras_cv\n",
    "\n",
    "from tensorflow import keras\n"
   ]
  },
  {
   "cell_type": "code",
   "execution_count": 14,
   "metadata": {},
   "outputs": [],
   "source": [
    "BATCH_SIZE = 8\n",
    "\n",
    "IMAGE_SIZE = (128, 128)\n",
    "\n",
    "CLASSES = {\n",
    "    1: \"penguin\",\n",
    "    2: \"turtle\"\n",
    "}"
   ]
  },
  {
   "cell_type": "code",
   "execution_count": 15,
   "metadata": {},
   "outputs": [
    {
     "name": "stdout",
     "output_type": "stream",
     "text": [
      "['archive/train/train\\\\image_id_000.jpg', 'archive/train/train\\\\image_id_001.jpg', 'archive/train/train\\\\image_id_002.jpg', 'archive/train/train\\\\image_id_003.jpg', 'archive/train/train\\\\image_id_004.jpg', 'archive/train/train\\\\image_id_005.jpg', 'archive/train/train\\\\image_id_006.jpg', 'archive/train/train\\\\image_id_007.jpg', 'archive/train/train\\\\image_id_008.jpg', 'archive/train/train\\\\image_id_009.jpg', 'archive/train/train\\\\image_id_010.jpg', 'archive/train/train\\\\image_id_011.jpg', 'archive/train/train\\\\image_id_012.jpg', 'archive/train/train\\\\image_id_013.jpg', 'archive/train/train\\\\image_id_014.jpg', 'archive/train/train\\\\image_id_015.jpg', 'archive/train/train\\\\image_id_016.jpg', 'archive/train/train\\\\image_id_017.jpg', 'archive/train/train\\\\image_id_018.jpg', 'archive/train/train\\\\image_id_019.jpg', 'archive/train/train\\\\image_id_020.jpg', 'archive/train/train\\\\image_id_021.jpg', 'archive/train/train\\\\image_id_022.jpg', 'archive/train/train\\\\image_id_023.jpg', 'archive/train/train\\\\image_id_024.jpg', 'archive/train/train\\\\image_id_025.jpg', 'archive/train/train\\\\image_id_026.jpg', 'archive/train/train\\\\image_id_027.jpg', 'archive/train/train\\\\image_id_028.jpg', 'archive/train/train\\\\image_id_029.jpg', 'archive/train/train\\\\image_id_030.jpg', 'archive/train/train\\\\image_id_031.jpg', 'archive/train/train\\\\image_id_032.jpg', 'archive/train/train\\\\image_id_033.jpg', 'archive/train/train\\\\image_id_034.jpg', 'archive/train/train\\\\image_id_035.jpg', 'archive/train/train\\\\image_id_036.jpg', 'archive/train/train\\\\image_id_037.jpg', 'archive/train/train\\\\image_id_038.jpg', 'archive/train/train\\\\image_id_039.jpg', 'archive/train/train\\\\image_id_040.jpg', 'archive/train/train\\\\image_id_041.jpg', 'archive/train/train\\\\image_id_042.jpg', 'archive/train/train\\\\image_id_043.jpg', 'archive/train/train\\\\image_id_044.jpg', 'archive/train/train\\\\image_id_045.jpg', 'archive/train/train\\\\image_id_046.jpg', 'archive/train/train\\\\image_id_047.jpg', 'archive/train/train\\\\image_id_048.jpg', 'archive/train/train\\\\image_id_049.jpg', 'archive/train/train\\\\image_id_050.jpg', 'archive/train/train\\\\image_id_051.jpg', 'archive/train/train\\\\image_id_052.jpg', 'archive/train/train\\\\image_id_053.jpg', 'archive/train/train\\\\image_id_054.jpg', 'archive/train/train\\\\image_id_055.jpg', 'archive/train/train\\\\image_id_056.jpg', 'archive/train/train\\\\image_id_057.jpg', 'archive/train/train\\\\image_id_058.jpg', 'archive/train/train\\\\image_id_059.jpg', 'archive/train/train\\\\image_id_060.jpg', 'archive/train/train\\\\image_id_061.jpg', 'archive/train/train\\\\image_id_062.jpg', 'archive/train/train\\\\image_id_063.jpg', 'archive/train/train\\\\image_id_064.jpg', 'archive/train/train\\\\image_id_065.jpg', 'archive/train/train\\\\image_id_066.jpg', 'archive/train/train\\\\image_id_067.jpg', 'archive/train/train\\\\image_id_068.jpg', 'archive/train/train\\\\image_id_069.jpg', 'archive/train/train\\\\image_id_070.jpg', 'archive/train/train\\\\image_id_071.jpg', 'archive/train/train\\\\image_id_072.jpg', 'archive/train/train\\\\image_id_073.jpg', 'archive/train/train\\\\image_id_074.jpg', 'archive/train/train\\\\image_id_075.jpg', 'archive/train/train\\\\image_id_076.jpg', 'archive/train/train\\\\image_id_077.jpg', 'archive/train/train\\\\image_id_078.jpg', 'archive/train/train\\\\image_id_079.jpg', 'archive/train/train\\\\image_id_080.jpg', 'archive/train/train\\\\image_id_081.jpg', 'archive/train/train\\\\image_id_082.jpg', 'archive/train/train\\\\image_id_083.jpg', 'archive/train/train\\\\image_id_084.jpg', 'archive/train/train\\\\image_id_085.jpg', 'archive/train/train\\\\image_id_086.jpg', 'archive/train/train\\\\image_id_087.jpg', 'archive/train/train\\\\image_id_088.jpg', 'archive/train/train\\\\image_id_089.jpg', 'archive/train/train\\\\image_id_090.jpg', 'archive/train/train\\\\image_id_091.jpg', 'archive/train/train\\\\image_id_092.jpg', 'archive/train/train\\\\image_id_093.jpg', 'archive/train/train\\\\image_id_094.jpg', 'archive/train/train\\\\image_id_095.jpg', 'archive/train/train\\\\image_id_096.jpg', 'archive/train/train\\\\image_id_097.jpg', 'archive/train/train\\\\image_id_098.jpg', 'archive/train/train\\\\image_id_099.jpg', 'archive/train/train\\\\image_id_100.jpg', 'archive/train/train\\\\image_id_101.jpg', 'archive/train/train\\\\image_id_102.jpg', 'archive/train/train\\\\image_id_103.jpg', 'archive/train/train\\\\image_id_104.jpg', 'archive/train/train\\\\image_id_105.jpg', 'archive/train/train\\\\image_id_106.jpg', 'archive/train/train\\\\image_id_107.jpg', 'archive/train/train\\\\image_id_108.jpg', 'archive/train/train\\\\image_id_109.jpg', 'archive/train/train\\\\image_id_110.jpg', 'archive/train/train\\\\image_id_111.jpg', 'archive/train/train\\\\image_id_112.jpg', 'archive/train/train\\\\image_id_113.jpg', 'archive/train/train\\\\image_id_114.jpg', 'archive/train/train\\\\image_id_115.jpg', 'archive/train/train\\\\image_id_116.jpg', 'archive/train/train\\\\image_id_117.jpg', 'archive/train/train\\\\image_id_118.jpg', 'archive/train/train\\\\image_id_119.jpg', 'archive/train/train\\\\image_id_120.jpg', 'archive/train/train\\\\image_id_121.jpg', 'archive/train/train\\\\image_id_122.jpg', 'archive/train/train\\\\image_id_123.jpg', 'archive/train/train\\\\image_id_124.jpg', 'archive/train/train\\\\image_id_125.jpg', 'archive/train/train\\\\image_id_126.jpg', 'archive/train/train\\\\image_id_127.jpg', 'archive/train/train\\\\image_id_128.jpg', 'archive/train/train\\\\image_id_129.jpg', 'archive/train/train\\\\image_id_130.jpg', 'archive/train/train\\\\image_id_131.jpg', 'archive/train/train\\\\image_id_132.jpg', 'archive/train/train\\\\image_id_133.jpg', 'archive/train/train\\\\image_id_134.jpg', 'archive/train/train\\\\image_id_135.jpg', 'archive/train/train\\\\image_id_136.jpg', 'archive/train/train\\\\image_id_137.jpg', 'archive/train/train\\\\image_id_138.jpg', 'archive/train/train\\\\image_id_139.jpg', 'archive/train/train\\\\image_id_140.jpg', 'archive/train/train\\\\image_id_141.jpg', 'archive/train/train\\\\image_id_142.jpg', 'archive/train/train\\\\image_id_143.jpg', 'archive/train/train\\\\image_id_144.jpg', 'archive/train/train\\\\image_id_145.jpg', 'archive/train/train\\\\image_id_146.jpg', 'archive/train/train\\\\image_id_147.jpg', 'archive/train/train\\\\image_id_148.jpg', 'archive/train/train\\\\image_id_149.jpg', 'archive/train/train\\\\image_id_150.jpg', 'archive/train/train\\\\image_id_151.jpg', 'archive/train/train\\\\image_id_152.jpg', 'archive/train/train\\\\image_id_153.jpg', 'archive/train/train\\\\image_id_154.jpg', 'archive/train/train\\\\image_id_155.jpg', 'archive/train/train\\\\image_id_156.jpg', 'archive/train/train\\\\image_id_157.jpg', 'archive/train/train\\\\image_id_158.jpg', 'archive/train/train\\\\image_id_159.jpg', 'archive/train/train\\\\image_id_160.jpg', 'archive/train/train\\\\image_id_161.jpg', 'archive/train/train\\\\image_id_162.jpg', 'archive/train/train\\\\image_id_163.jpg', 'archive/train/train\\\\image_id_164.jpg', 'archive/train/train\\\\image_id_165.jpg', 'archive/train/train\\\\image_id_166.jpg', 'archive/train/train\\\\image_id_167.jpg', 'archive/train/train\\\\image_id_168.jpg', 'archive/train/train\\\\image_id_169.jpg', 'archive/train/train\\\\image_id_170.jpg', 'archive/train/train\\\\image_id_171.jpg', 'archive/train/train\\\\image_id_172.jpg', 'archive/train/train\\\\image_id_173.jpg', 'archive/train/train\\\\image_id_174.jpg', 'archive/train/train\\\\image_id_175.jpg', 'archive/train/train\\\\image_id_176.jpg', 'archive/train/train\\\\image_id_177.jpg', 'archive/train/train\\\\image_id_178.jpg', 'archive/train/train\\\\image_id_179.jpg', 'archive/train/train\\\\image_id_180.jpg', 'archive/train/train\\\\image_id_181.jpg', 'archive/train/train\\\\image_id_182.jpg', 'archive/train/train\\\\image_id_183.jpg', 'archive/train/train\\\\image_id_184.jpg', 'archive/train/train\\\\image_id_185.jpg', 'archive/train/train\\\\image_id_186.jpg', 'archive/train/train\\\\image_id_187.jpg', 'archive/train/train\\\\image_id_188.jpg', 'archive/train/train\\\\image_id_189.jpg', 'archive/train/train\\\\image_id_190.jpg', 'archive/train/train\\\\image_id_191.jpg', 'archive/train/train\\\\image_id_192.jpg', 'archive/train/train\\\\image_id_193.jpg', 'archive/train/train\\\\image_id_194.jpg', 'archive/train/train\\\\image_id_195.jpg', 'archive/train/train\\\\image_id_196.jpg', 'archive/train/train\\\\image_id_197.jpg', 'archive/train/train\\\\image_id_198.jpg', 'archive/train/train\\\\image_id_199.jpg', 'archive/train/train\\\\image_id_200.jpg', 'archive/train/train\\\\image_id_201.jpg', 'archive/train/train\\\\image_id_202.jpg', 'archive/train/train\\\\image_id_203.jpg', 'archive/train/train\\\\image_id_204.jpg', 'archive/train/train\\\\image_id_205.jpg', 'archive/train/train\\\\image_id_206.jpg', 'archive/train/train\\\\image_id_207.jpg', 'archive/train/train\\\\image_id_208.jpg', 'archive/train/train\\\\image_id_209.jpg', 'archive/train/train\\\\image_id_210.jpg', 'archive/train/train\\\\image_id_211.jpg', 'archive/train/train\\\\image_id_212.jpg', 'archive/train/train\\\\image_id_213.jpg', 'archive/train/train\\\\image_id_214.jpg', 'archive/train/train\\\\image_id_215.jpg', 'archive/train/train\\\\image_id_216.jpg', 'archive/train/train\\\\image_id_217.jpg', 'archive/train/train\\\\image_id_218.jpg', 'archive/train/train\\\\image_id_219.jpg', 'archive/train/train\\\\image_id_220.jpg', 'archive/train/train\\\\image_id_221.jpg', 'archive/train/train\\\\image_id_222.jpg', 'archive/train/train\\\\image_id_223.jpg', 'archive/train/train\\\\image_id_224.jpg', 'archive/train/train\\\\image_id_225.jpg', 'archive/train/train\\\\image_id_226.jpg', 'archive/train/train\\\\image_id_227.jpg', 'archive/train/train\\\\image_id_228.jpg', 'archive/train/train\\\\image_id_229.jpg', 'archive/train/train\\\\image_id_230.jpg', 'archive/train/train\\\\image_id_231.jpg', 'archive/train/train\\\\image_id_232.jpg', 'archive/train/train\\\\image_id_233.jpg', 'archive/train/train\\\\image_id_234.jpg', 'archive/train/train\\\\image_id_235.jpg', 'archive/train/train\\\\image_id_236.jpg', 'archive/train/train\\\\image_id_237.jpg', 'archive/train/train\\\\image_id_238.jpg', 'archive/train/train\\\\image_id_239.jpg', 'archive/train/train\\\\image_id_240.jpg', 'archive/train/train\\\\image_id_241.jpg', 'archive/train/train\\\\image_id_242.jpg', 'archive/train/train\\\\image_id_243.jpg', 'archive/train/train\\\\image_id_244.jpg', 'archive/train/train\\\\image_id_245.jpg', 'archive/train/train\\\\image_id_246.jpg', 'archive/train/train\\\\image_id_247.jpg', 'archive/train/train\\\\image_id_248.jpg', 'archive/train/train\\\\image_id_249.jpg', 'archive/train/train\\\\image_id_250.jpg', 'archive/train/train\\\\image_id_251.jpg', 'archive/train/train\\\\image_id_252.jpg', 'archive/train/train\\\\image_id_253.jpg', 'archive/train/train\\\\image_id_254.jpg', 'archive/train/train\\\\image_id_255.jpg', 'archive/train/train\\\\image_id_256.jpg', 'archive/train/train\\\\image_id_257.jpg', 'archive/train/train\\\\image_id_258.jpg', 'archive/train/train\\\\image_id_259.jpg', 'archive/train/train\\\\image_id_260.jpg', 'archive/train/train\\\\image_id_261.jpg', 'archive/train/train\\\\image_id_262.jpg', 'archive/train/train\\\\image_id_263.jpg', 'archive/train/train\\\\image_id_264.jpg', 'archive/train/train\\\\image_id_265.jpg', 'archive/train/train\\\\image_id_266.jpg', 'archive/train/train\\\\image_id_267.jpg', 'archive/train/train\\\\image_id_268.jpg', 'archive/train/train\\\\image_id_269.jpg', 'archive/train/train\\\\image_id_270.jpg', 'archive/train/train\\\\image_id_271.jpg', 'archive/train/train\\\\image_id_272.jpg', 'archive/train/train\\\\image_id_273.jpg', 'archive/train/train\\\\image_id_274.jpg', 'archive/train/train\\\\image_id_275.jpg', 'archive/train/train\\\\image_id_276.jpg', 'archive/train/train\\\\image_id_277.jpg', 'archive/train/train\\\\image_id_278.jpg', 'archive/train/train\\\\image_id_279.jpg', 'archive/train/train\\\\image_id_280.jpg', 'archive/train/train\\\\image_id_281.jpg', 'archive/train/train\\\\image_id_282.jpg', 'archive/train/train\\\\image_id_283.jpg', 'archive/train/train\\\\image_id_284.jpg', 'archive/train/train\\\\image_id_285.jpg', 'archive/train/train\\\\image_id_286.jpg', 'archive/train/train\\\\image_id_287.jpg', 'archive/train/train\\\\image_id_288.jpg', 'archive/train/train\\\\image_id_289.jpg', 'archive/train/train\\\\image_id_290.jpg', 'archive/train/train\\\\image_id_291.jpg', 'archive/train/train\\\\image_id_292.jpg', 'archive/train/train\\\\image_id_293.jpg', 'archive/train/train\\\\image_id_294.jpg', 'archive/train/train\\\\image_id_295.jpg', 'archive/train/train\\\\image_id_296.jpg', 'archive/train/train\\\\image_id_297.jpg', 'archive/train/train\\\\image_id_298.jpg', 'archive/train/train\\\\image_id_299.jpg', 'archive/train/train\\\\image_id_300.jpg', 'archive/train/train\\\\image_id_301.jpg', 'archive/train/train\\\\image_id_302.jpg', 'archive/train/train\\\\image_id_303.jpg', 'archive/train/train\\\\image_id_304.jpg', 'archive/train/train\\\\image_id_305.jpg', 'archive/train/train\\\\image_id_306.jpg', 'archive/train/train\\\\image_id_307.jpg', 'archive/train/train\\\\image_id_308.jpg', 'archive/train/train\\\\image_id_309.jpg', 'archive/train/train\\\\image_id_310.jpg', 'archive/train/train\\\\image_id_311.jpg', 'archive/train/train\\\\image_id_312.jpg', 'archive/train/train\\\\image_id_313.jpg', 'archive/train/train\\\\image_id_314.jpg', 'archive/train/train\\\\image_id_315.jpg', 'archive/train/train\\\\image_id_316.jpg', 'archive/train/train\\\\image_id_317.jpg', 'archive/train/train\\\\image_id_318.jpg', 'archive/train/train\\\\image_id_319.jpg', 'archive/train/train\\\\image_id_320.jpg', 'archive/train/train\\\\image_id_321.jpg', 'archive/train/train\\\\image_id_322.jpg', 'archive/train/train\\\\image_id_323.jpg', 'archive/train/train\\\\image_id_324.jpg', 'archive/train/train\\\\image_id_325.jpg', 'archive/train/train\\\\image_id_326.jpg', 'archive/train/train\\\\image_id_327.jpg', 'archive/train/train\\\\image_id_328.jpg', 'archive/train/train\\\\image_id_329.jpg', 'archive/train/train\\\\image_id_330.jpg', 'archive/train/train\\\\image_id_331.jpg', 'archive/train/train\\\\image_id_332.jpg', 'archive/train/train\\\\image_id_333.jpg', 'archive/train/train\\\\image_id_334.jpg', 'archive/train/train\\\\image_id_335.jpg', 'archive/train/train\\\\image_id_336.jpg', 'archive/train/train\\\\image_id_337.jpg', 'archive/train/train\\\\image_id_338.jpg', 'archive/train/train\\\\image_id_339.jpg', 'archive/train/train\\\\image_id_340.jpg', 'archive/train/train\\\\image_id_341.jpg', 'archive/train/train\\\\image_id_342.jpg', 'archive/train/train\\\\image_id_343.jpg', 'archive/train/train\\\\image_id_344.jpg', 'archive/train/train\\\\image_id_345.jpg', 'archive/train/train\\\\image_id_346.jpg', 'archive/train/train\\\\image_id_347.jpg', 'archive/train/train\\\\image_id_348.jpg', 'archive/train/train\\\\image_id_349.jpg', 'archive/train/train\\\\image_id_350.jpg', 'archive/train/train\\\\image_id_351.jpg', 'archive/train/train\\\\image_id_352.jpg', 'archive/train/train\\\\image_id_353.jpg', 'archive/train/train\\\\image_id_354.jpg', 'archive/train/train\\\\image_id_355.jpg', 'archive/train/train\\\\image_id_356.jpg', 'archive/train/train\\\\image_id_357.jpg', 'archive/train/train\\\\image_id_358.jpg', 'archive/train/train\\\\image_id_359.jpg', 'archive/train/train\\\\image_id_360.jpg', 'archive/train/train\\\\image_id_361.jpg', 'archive/train/train\\\\image_id_362.jpg', 'archive/train/train\\\\image_id_363.jpg', 'archive/train/train\\\\image_id_364.jpg', 'archive/train/train\\\\image_id_365.jpg', 'archive/train/train\\\\image_id_366.jpg', 'archive/train/train\\\\image_id_367.jpg', 'archive/train/train\\\\image_id_368.jpg', 'archive/train/train\\\\image_id_369.jpg', 'archive/train/train\\\\image_id_370.jpg', 'archive/train/train\\\\image_id_371.jpg', 'archive/train/train\\\\image_id_372.jpg', 'archive/train/train\\\\image_id_373.jpg', 'archive/train/train\\\\image_id_374.jpg', 'archive/train/train\\\\image_id_375.jpg', 'archive/train/train\\\\image_id_376.jpg', 'archive/train/train\\\\image_id_377.jpg', 'archive/train/train\\\\image_id_378.jpg', 'archive/train/train\\\\image_id_379.jpg', 'archive/train/train\\\\image_id_380.jpg', 'archive/train/train\\\\image_id_381.jpg', 'archive/train/train\\\\image_id_382.jpg', 'archive/train/train\\\\image_id_383.jpg', 'archive/train/train\\\\image_id_384.jpg', 'archive/train/train\\\\image_id_385.jpg', 'archive/train/train\\\\image_id_386.jpg', 'archive/train/train\\\\image_id_387.jpg', 'archive/train/train\\\\image_id_388.jpg', 'archive/train/train\\\\image_id_389.jpg', 'archive/train/train\\\\image_id_390.jpg', 'archive/train/train\\\\image_id_391.jpg', 'archive/train/train\\\\image_id_392.jpg', 'archive/train/train\\\\image_id_393.jpg', 'archive/train/train\\\\image_id_394.jpg', 'archive/train/train\\\\image_id_395.jpg', 'archive/train/train\\\\image_id_396.jpg', 'archive/train/train\\\\image_id_397.jpg', 'archive/train/train\\\\image_id_398.jpg', 'archive/train/train\\\\image_id_399.jpg', 'archive/train/train\\\\image_id_400.jpg', 'archive/train/train\\\\image_id_401.jpg', 'archive/train/train\\\\image_id_402.jpg', 'archive/train/train\\\\image_id_403.jpg', 'archive/train/train\\\\image_id_404.jpg', 'archive/train/train\\\\image_id_405.jpg', 'archive/train/train\\\\image_id_406.jpg', 'archive/train/train\\\\image_id_407.jpg', 'archive/train/train\\\\image_id_408.jpg', 'archive/train/train\\\\image_id_409.jpg', 'archive/train/train\\\\image_id_410.jpg', 'archive/train/train\\\\image_id_411.jpg', 'archive/train/train\\\\image_id_412.jpg', 'archive/train/train\\\\image_id_413.jpg', 'archive/train/train\\\\image_id_414.jpg', 'archive/train/train\\\\image_id_415.jpg', 'archive/train/train\\\\image_id_416.jpg', 'archive/train/train\\\\image_id_417.jpg', 'archive/train/train\\\\image_id_418.jpg', 'archive/train/train\\\\image_id_419.jpg', 'archive/train/train\\\\image_id_420.jpg', 'archive/train/train\\\\image_id_421.jpg', 'archive/train/train\\\\image_id_422.jpg', 'archive/train/train\\\\image_id_423.jpg', 'archive/train/train\\\\image_id_424.jpg', 'archive/train/train\\\\image_id_425.jpg', 'archive/train/train\\\\image_id_426.jpg', 'archive/train/train\\\\image_id_427.jpg', 'archive/train/train\\\\image_id_428.jpg', 'archive/train/train\\\\image_id_429.jpg', 'archive/train/train\\\\image_id_430.jpg', 'archive/train/train\\\\image_id_431.jpg', 'archive/train/train\\\\image_id_432.jpg', 'archive/train/train\\\\image_id_433.jpg', 'archive/train/train\\\\image_id_434.jpg', 'archive/train/train\\\\image_id_435.jpg', 'archive/train/train\\\\image_id_436.jpg', 'archive/train/train\\\\image_id_437.jpg', 'archive/train/train\\\\image_id_438.jpg', 'archive/train/train\\\\image_id_439.jpg', 'archive/train/train\\\\image_id_440.jpg', 'archive/train/train\\\\image_id_441.jpg', 'archive/train/train\\\\image_id_442.jpg', 'archive/train/train\\\\image_id_443.jpg', 'archive/train/train\\\\image_id_444.jpg', 'archive/train/train\\\\image_id_445.jpg', 'archive/train/train\\\\image_id_446.jpg', 'archive/train/train\\\\image_id_447.jpg', 'archive/train/train\\\\image_id_448.jpg', 'archive/train/train\\\\image_id_449.jpg', 'archive/train/train\\\\image_id_450.jpg', 'archive/train/train\\\\image_id_451.jpg', 'archive/train/train\\\\image_id_452.jpg', 'archive/train/train\\\\image_id_453.jpg', 'archive/train/train\\\\image_id_454.jpg', 'archive/train/train\\\\image_id_455.jpg', 'archive/train/train\\\\image_id_456.jpg', 'archive/train/train\\\\image_id_457.jpg', 'archive/train/train\\\\image_id_458.jpg', 'archive/train/train\\\\image_id_459.jpg', 'archive/train/train\\\\image_id_460.jpg', 'archive/train/train\\\\image_id_461.jpg', 'archive/train/train\\\\image_id_462.jpg', 'archive/train/train\\\\image_id_463.jpg', 'archive/train/train\\\\image_id_464.jpg', 'archive/train/train\\\\image_id_465.jpg', 'archive/train/train\\\\image_id_466.jpg', 'archive/train/train\\\\image_id_467.jpg', 'archive/train/train\\\\image_id_468.jpg', 'archive/train/train\\\\image_id_469.jpg', 'archive/train/train\\\\image_id_470.jpg', 'archive/train/train\\\\image_id_471.jpg', 'archive/train/train\\\\image_id_472.jpg', 'archive/train/train\\\\image_id_473.jpg', 'archive/train/train\\\\image_id_474.jpg', 'archive/train/train\\\\image_id_475.jpg', 'archive/train/train\\\\image_id_476.jpg', 'archive/train/train\\\\image_id_477.jpg', 'archive/train/train\\\\image_id_478.jpg', 'archive/train/train\\\\image_id_479.jpg', 'archive/train/train\\\\image_id_480.jpg', 'archive/train/train\\\\image_id_481.jpg', 'archive/train/train\\\\image_id_482.jpg', 'archive/train/train\\\\image_id_483.jpg', 'archive/train/train\\\\image_id_484.jpg', 'archive/train/train\\\\image_id_485.jpg', 'archive/train/train\\\\image_id_486.jpg', 'archive/train/train\\\\image_id_487.jpg', 'archive/train/train\\\\image_id_488.jpg', 'archive/train/train\\\\image_id_489.jpg', 'archive/train/train\\\\image_id_490.jpg', 'archive/train/train\\\\image_id_491.jpg', 'archive/train/train\\\\image_id_492.jpg', 'archive/train/train\\\\image_id_493.jpg', 'archive/train/train\\\\image_id_494.jpg', 'archive/train/train\\\\image_id_495.jpg', 'archive/train/train\\\\image_id_496.jpg', 'archive/train/train\\\\image_id_497.jpg', 'archive/train/train\\\\image_id_498.jpg', 'archive/train/train\\\\image_id_499.jpg']\n",
      "['archive/valid/valid\\\\image_id_000.jpg', 'archive/valid/valid\\\\image_id_001.jpg', 'archive/valid/valid\\\\image_id_002.jpg', 'archive/valid/valid\\\\image_id_003.jpg', 'archive/valid/valid\\\\image_id_004.jpg', 'archive/valid/valid\\\\image_id_005.jpg', 'archive/valid/valid\\\\image_id_006.jpg', 'archive/valid/valid\\\\image_id_007.jpg', 'archive/valid/valid\\\\image_id_008.jpg', 'archive/valid/valid\\\\image_id_009.jpg', 'archive/valid/valid\\\\image_id_010.jpg', 'archive/valid/valid\\\\image_id_011.jpg', 'archive/valid/valid\\\\image_id_012.jpg', 'archive/valid/valid\\\\image_id_013.jpg', 'archive/valid/valid\\\\image_id_014.jpg', 'archive/valid/valid\\\\image_id_015.jpg', 'archive/valid/valid\\\\image_id_016.jpg', 'archive/valid/valid\\\\image_id_017.jpg', 'archive/valid/valid\\\\image_id_018.jpg', 'archive/valid/valid\\\\image_id_019.jpg', 'archive/valid/valid\\\\image_id_020.jpg', 'archive/valid/valid\\\\image_id_021.jpg', 'archive/valid/valid\\\\image_id_022.jpg', 'archive/valid/valid\\\\image_id_023.jpg', 'archive/valid/valid\\\\image_id_024.jpg', 'archive/valid/valid\\\\image_id_025.jpg', 'archive/valid/valid\\\\image_id_026.jpg', 'archive/valid/valid\\\\image_id_027.jpg', 'archive/valid/valid\\\\image_id_028.jpg', 'archive/valid/valid\\\\image_id_029.jpg', 'archive/valid/valid\\\\image_id_030.jpg', 'archive/valid/valid\\\\image_id_031.jpg', 'archive/valid/valid\\\\image_id_032.jpg', 'archive/valid/valid\\\\image_id_033.jpg', 'archive/valid/valid\\\\image_id_034.jpg', 'archive/valid/valid\\\\image_id_035.jpg', 'archive/valid/valid\\\\image_id_036.jpg', 'archive/valid/valid\\\\image_id_037.jpg', 'archive/valid/valid\\\\image_id_038.jpg', 'archive/valid/valid\\\\image_id_039.jpg', 'archive/valid/valid\\\\image_id_040.jpg', 'archive/valid/valid\\\\image_id_041.jpg', 'archive/valid/valid\\\\image_id_042.jpg', 'archive/valid/valid\\\\image_id_043.jpg', 'archive/valid/valid\\\\image_id_044.jpg', 'archive/valid/valid\\\\image_id_045.jpg', 'archive/valid/valid\\\\image_id_046.jpg', 'archive/valid/valid\\\\image_id_047.jpg', 'archive/valid/valid\\\\image_id_048.jpg', 'archive/valid/valid\\\\image_id_049.jpg', 'archive/valid/valid\\\\image_id_050.jpg', 'archive/valid/valid\\\\image_id_051.jpg', 'archive/valid/valid\\\\image_id_052.jpg', 'archive/valid/valid\\\\image_id_053.jpg', 'archive/valid/valid\\\\image_id_054.jpg', 'archive/valid/valid\\\\image_id_055.jpg', 'archive/valid/valid\\\\image_id_056.jpg', 'archive/valid/valid\\\\image_id_057.jpg', 'archive/valid/valid\\\\image_id_058.jpg', 'archive/valid/valid\\\\image_id_059.jpg', 'archive/valid/valid\\\\image_id_060.jpg', 'archive/valid/valid\\\\image_id_061.jpg', 'archive/valid/valid\\\\image_id_062.jpg', 'archive/valid/valid\\\\image_id_063.jpg', 'archive/valid/valid\\\\image_id_064.jpg', 'archive/valid/valid\\\\image_id_065.jpg', 'archive/valid/valid\\\\image_id_066.jpg', 'archive/valid/valid\\\\image_id_067.jpg', 'archive/valid/valid\\\\image_id_068.jpg', 'archive/valid/valid\\\\image_id_069.jpg', 'archive/valid/valid\\\\image_id_070.jpg', 'archive/valid/valid\\\\image_id_071.jpg']\n"
     ]
    }
   ],
   "source": [
    "train_directory = \"archive/train/train\"\n",
    "test_directory = \"archive/valid/valid\"\n",
    "\n",
    "train_paths = sorted(os.path.join(train_directory, file) for file in os.listdir(train_directory))\n",
    "print(train_paths)\n",
    "test_paths =  sorted(os.path.join(test_directory, file) for file in os.listdir(test_directory))\n",
    "print(test_paths)"
   ]
  },
  {
   "cell_type": "code",
   "execution_count": 16,
   "metadata": {},
   "outputs": [
    {
     "data": {
      "text/html": [
       "<div>\n",
       "<style scoped>\n",
       "    .dataframe tbody tr th:only-of-type {\n",
       "        vertical-align: middle;\n",
       "    }\n",
       "\n",
       "    .dataframe tbody tr th {\n",
       "        vertical-align: top;\n",
       "    }\n",
       "\n",
       "    .dataframe thead th {\n",
       "        text-align: right;\n",
       "    }\n",
       "</style>\n",
       "<table border=\"1\" class=\"dataframe\">\n",
       "  <thead>\n",
       "    <tr style=\"text-align: right;\">\n",
       "      <th></th>\n",
       "      <th>id</th>\n",
       "      <th>image_id</th>\n",
       "      <th>category_id</th>\n",
       "      <th>bbox</th>\n",
       "      <th>area</th>\n",
       "      <th>segmentation</th>\n",
       "      <th>iscrowd</th>\n",
       "    </tr>\n",
       "  </thead>\n",
       "  <tbody>\n",
       "    <tr>\n",
       "      <th>0</th>\n",
       "      <td>0</td>\n",
       "      <td>0</td>\n",
       "      <td>1</td>\n",
       "      <td>[119, 25, 205, 606]</td>\n",
       "      <td>124230</td>\n",
       "      <td>[]</td>\n",
       "      <td>0</td>\n",
       "    </tr>\n",
       "    <tr>\n",
       "      <th>1</th>\n",
       "      <td>1</td>\n",
       "      <td>1</td>\n",
       "      <td>1</td>\n",
       "      <td>[131, 82, 327, 440]</td>\n",
       "      <td>143880</td>\n",
       "      <td>[]</td>\n",
       "      <td>0</td>\n",
       "    </tr>\n",
       "    <tr>\n",
       "      <th>2</th>\n",
       "      <td>2</td>\n",
       "      <td>2</td>\n",
       "      <td>2</td>\n",
       "      <td>[225, 298, 198, 185]</td>\n",
       "      <td>36630</td>\n",
       "      <td>[]</td>\n",
       "      <td>0</td>\n",
       "    </tr>\n",
       "    <tr>\n",
       "      <th>3</th>\n",
       "      <td>3</td>\n",
       "      <td>3</td>\n",
       "      <td>2</td>\n",
       "      <td>[468, 109, 172, 193]</td>\n",
       "      <td>33196</td>\n",
       "      <td>[]</td>\n",
       "      <td>0</td>\n",
       "    </tr>\n",
       "    <tr>\n",
       "      <th>4</th>\n",
       "      <td>4</td>\n",
       "      <td>4</td>\n",
       "      <td>1</td>\n",
       "      <td>[14, 242, 611, 154]</td>\n",
       "      <td>94094</td>\n",
       "      <td>[]</td>\n",
       "      <td>0</td>\n",
       "    </tr>\n",
       "  </tbody>\n",
       "</table>\n",
       "</div>"
      ],
      "text/plain": [
       "   id  image_id  category_id                  bbox    area segmentation  \\\n",
       "0   0         0            1   [119, 25, 205, 606]  124230           []   \n",
       "1   1         1            1   [131, 82, 327, 440]  143880           []   \n",
       "2   2         2            2  [225, 298, 198, 185]   36630           []   \n",
       "3   3         3            2  [468, 109, 172, 193]   33196           []   \n",
       "4   4         4            1   [14, 242, 611, 154]   94094           []   \n",
       "\n",
       "   iscrowd  \n",
       "0        0  \n",
       "1        0  \n",
       "2        0  \n",
       "3        0  \n",
       "4        0  "
      ]
     },
     "execution_count": 16,
     "metadata": {},
     "output_type": "execute_result"
    }
   ],
   "source": [
    "def preprocess_annotations(path):\n",
    "    df = pd.read_json(path)\n",
    "    return df\n",
    "\n",
    "train_annotations = preprocess_annotations('archive/train_annotations')\n",
    "\n",
    "test_annotations = preprocess_annotations('archive/valid_annotations')\n",
    "train_annotations.head()"
   ]
  },
  {
   "cell_type": "code",
   "execution_count": 17,
   "metadata": {},
   "outputs": [],
   "source": [
    "inference_resizing  = keras_cv.layers.Resizing(\n",
    "    *IMAGE_SIZE, pad_to_aspect_ratio=True, bounding_box_format=\"xywh\"\n",
    ")\n",
    "# data augmentation layers\n",
    "augmenter = keras.Sequential(\n",
    "    layers=[\n",
    "        inference_resizing,\n",
    "        keras_cv.layers.RandomFlip(mode=\"horizontal\", bounding_box_format=\"xywh\"),\n",
    "    ]\n",
    ")"
   ]
  },
  {
   "cell_type": "code",
   "execution_count": 27,
   "metadata": {},
   "outputs": [
    {
     "name": "stdout",
     "output_type": "stream",
     "text": [
      "<_PrefetchDataset element_spec={'images': TensorSpec(shape=(None, 128, 128, None), dtype=tf.float32, name=None), 'bounding_boxes': {'boxes': RaggedTensorSpec(TensorShape([None, None, 4]), tf.float32, 2, tf.int64), 'classes': RaggedTensorSpec(TensorShape([None, None]), tf.float32, 1, tf.int64)}}>\n",
      "<_PrefetchDataset element_spec={'images': TensorSpec(shape=(None, 128, 128, None), dtype=tf.float32, name=None), 'bounding_boxes': {'boxes': RaggedTensorSpec(TensorShape([None, None, 4]), tf.float32, 2, tf.int64), 'classes': RaggedTensorSpec(TensorShape([None, None]), tf.float32, 1, tf.int64)}}>\n"
     ]
    }
   ],
   "source": [
    "def convert_img(path, label, bbox):\n",
    "    return tf.image.decode_jpeg(tf.io.read_file(path)), label, bbox\n",
    "\n",
    "def data_tran(image, label, bbox):\n",
    "    # Convert to object detection format expected by Keras CV\n",
    "    bounding_boxes = {\"classes\": [label],\"boxes\": [bbox],}\n",
    "    return {\"images\": image, \"bounding_boxes\": bounding_boxes}\n",
    "\n",
    "def date_generate(image_paths, annotations):\n",
    "    slice_data = tf.data.Dataset.from_tensor_slices((image_paths,annotations[\"category_id\"],annotations[\"bbox\"].to_list()))\n",
    "    data_i = slice_data.map(convert_img, num_parallel_calls=tf.data.AUTOTUNE)\n",
    "    data_t =  data_i.map(data_tran, num_parallel_calls=tf.data.AUTOTUNE)\n",
    "    data_raggeed = data_t.ragged_batch(BATCH_SIZE)\n",
    "    resize_data = data_raggeed.map(lambda x: inference_resizing(x), num_parallel_calls=tf.data.AUTOTUNE)\n",
    "    result = resize_data.prefetch(tf.data.AUTOTUNE)\n",
    "    return result\n",
    "    \n",
    "    \n",
    "\n",
    "train_dataset = date_generate(train_paths, train_annotations)\n",
    "test_dataset = date_generate(test_paths, test_annotations)\n",
    "\n",
    "print(train_dataset)\n",
    "print(test_dataset)\n",
    "\n"
   ]
  },
  {
   "cell_type": "code",
   "execution_count": 28,
   "metadata": {},
   "outputs": [],
   "source": [
    "from keras_cv.metrics import BoxCOCOMetrics\n",
    "import tqdm\n",
    "class EvaluateCOCOMetricsCallback(keras.callbacks.Callback):\n",
    "    def __init__(self, data):\n",
    "        super().__init__()\n",
    "        self.data = data\n",
    "        self.metrics = BoxCOCOMetrics(\n",
    "            bounding_box_format=\"xywh\",\n",
    "      \n",
    "            evaluate_freq=1e9,\n",
    "        )\n",
    "    def on_epoch_end(self, epoch, logs):\n",
    "        self.metrics.reset_state()\n",
    "        for batch in tqdm.tqdm(self.data):\n",
    "            images, y_true = batch[0], batch[1]\n",
    "            y_pred = self.model.predict(images, verbose=0)\n",
    "            y_pred = keras_cv.bounding_box.to_dense(y_pred, max_boxes=16)\n",
    "            y_true = keras_cv.bounding_box.to_dense(y_true, max_boxes=16)\n",
    "            self.metrics.update_state(y_true, y_pred)\n",
    "\n",
    "        metrics = self.metrics.result(force=True)\n",
    "        logs.update(metrics)\n",
    "        return logs"
   ]
  },
  {
   "cell_type": "code",
   "execution_count": 29,
   "metadata": {},
   "outputs": [],
   "source": [
    "from keras.optimizers import SGD\n",
    "\n",
    "model = keras_cv.models.RetinaNet(\n",
    "    num_classes=2,\n",
    "    bounding_box_format=\"xywh\",\n",
    "    backbone=keras_cv.models.ResNet50Backbone.from_preset(\n",
    "            \"resnet50_imagenet\"\n",
    "    )\n",
    ")\n",
    "    \n",
    "base_lr = 0.005\n",
    "optimizer = SGD(\n",
    "    learning_rate=base_lr, momentum=0.9, global_clipnorm=10.0\n",
    ")\n",
    "    \n",
    "model.compile(\n",
    "    classification_loss='focal',\n",
    "    box_loss='smoothl1',\n",
    "    optimizer=optimizer,\n",
    ")"
   ]
  },
  {
   "cell_type": "code",
   "execution_count": 30,
   "metadata": {},
   "outputs": [
    {
     "name": "stdout",
     "output_type": "stream",
     "text": [
      "Epoch 1/20\n",
      "63/63 [==============================] - ETA: 0s - loss: 0.9378 - box_loss: 0.6030 - classification_loss: 0.3348 - percent_boxes_matched_with_anchor: 0.9688"
     ]
    },
    {
     "name": "stderr",
     "output_type": "stream",
     "text": [
      "100%|██████████| 9/9 [00:09<00:00,  1.04s/it]"
     ]
    },
    {
     "name": "stdout",
     "output_type": "stream",
     "text": [
      "63/63 [==============================] - 87s 1s/step - loss: 0.9378 - box_loss: 0.6030 - classification_loss: 0.3348 - percent_boxes_matched_with_anchor: 0.9688 - MaP: 0.0479 - MaP@[IoU=50]: 0.1735 - MaP@[IoU=75]: 5.1568e-04 - MaP@[area=small]: 0.0000e+00 - MaP@[area=medium]: 0.0530 - MaP@[area=large]: 0.0000e+00 - Recall@[max_detections=1]: 0.0568 - Recall@[max_detections=10]: 0.1091 - Recall@[max_detections=100]: 0.1091 - Recall@[area=small]: 0.0000e+00 - Recall@[area=medium]: 0.1091 - Recall@[area=large]: 0.0000e+00\n"
     ]
    },
    {
     "name": "stderr",
     "output_type": "stream",
     "text": [
      "\n"
     ]
    },
    {
     "name": "stdout",
     "output_type": "stream",
     "text": [
      "Epoch 2/20\n",
      "63/63 [==============================] - ETA: 0s - loss: 0.6862 - box_loss: 0.4510 - classification_loss: 0.2352 - percent_boxes_matched_with_anchor: 0.9688"
     ]
    },
    {
     "name": "stderr",
     "output_type": "stream",
     "text": [
      "100%|██████████| 9/9 [00:05<00:00,  1.60it/s]"
     ]
    },
    {
     "name": "stdout",
     "output_type": "stream",
     "text": [
      "63/63 [==============================] - 71s 1s/step - loss: 0.6862 - box_loss: 0.4510 - classification_loss: 0.2352 - percent_boxes_matched_with_anchor: 0.9688 - MaP: 0.0326 - MaP@[IoU=50]: 0.1190 - MaP@[IoU=75]: 0.0127 - MaP@[area=small]: 0.0000e+00 - MaP@[area=medium]: 0.0345 - MaP@[area=large]: 0.0000e+00 - Recall@[max_detections=1]: 0.0857 - Recall@[max_detections=10]: 0.1250 - Recall@[max_detections=100]: 0.1250 - Recall@[area=small]: 0.0000e+00 - Recall@[area=medium]: 0.1296 - Recall@[area=large]: 0.0000e+00\n"
     ]
    },
    {
     "name": "stderr",
     "output_type": "stream",
     "text": [
      "\n"
     ]
    },
    {
     "name": "stdout",
     "output_type": "stream",
     "text": [
      "Epoch 3/20\n",
      "63/63 [==============================] - ETA: 0s - loss: 0.5151 - box_loss: 0.3514 - classification_loss: 0.1637 - percent_boxes_matched_with_anchor: 0.9688"
     ]
    },
    {
     "name": "stderr",
     "output_type": "stream",
     "text": [
      "100%|██████████| 9/9 [00:05<00:00,  1.55it/s]"
     ]
    },
    {
     "name": "stdout",
     "output_type": "stream",
     "text": [
      "63/63 [==============================] - 71s 1s/step - loss: 0.5151 - box_loss: 0.3514 - classification_loss: 0.1637 - percent_boxes_matched_with_anchor: 0.9688 - MaP: 0.0252 - MaP@[IoU=50]: 0.0763 - MaP@[IoU=75]: 0.0071 - MaP@[area=small]: 0.0000e+00 - MaP@[area=medium]: 0.0473 - MaP@[area=large]: 0.0000e+00 - Recall@[max_detections=1]: 0.1734 - Recall@[max_detections=10]: 0.1844 - Recall@[max_detections=100]: 0.1844 - Recall@[area=small]: 0.0000e+00 - Recall@[area=medium]: 0.1967 - Recall@[area=large]: 0.0000e+00\n"
     ]
    },
    {
     "name": "stderr",
     "output_type": "stream",
     "text": [
      "\n"
     ]
    },
    {
     "name": "stdout",
     "output_type": "stream",
     "text": [
      "Epoch 4/20\n",
      "63/63 [==============================] - ETA: 0s - loss: 0.4290 - box_loss: 0.2821 - classification_loss: 0.1469 - percent_boxes_matched_with_anchor: 0.9688"
     ]
    },
    {
     "name": "stderr",
     "output_type": "stream",
     "text": [
      "100%|██████████| 9/9 [00:05<00:00,  1.61it/s]"
     ]
    },
    {
     "name": "stdout",
     "output_type": "stream",
     "text": [
      "63/63 [==============================] - 71s 1s/step - loss: 0.4290 - box_loss: 0.2821 - classification_loss: 0.1469 - percent_boxes_matched_with_anchor: 0.9688 - MaP: 0.1696 - MaP@[IoU=50]: 1.0000 - MaP@[IoU=75]: 0.0212 - MaP@[area=small]: 0.0000e+00 - MaP@[area=medium]: 0.1696 - MaP@[area=large]: 0.0000e+00 - Recall@[max_detections=1]: 0.2786 - Recall@[max_detections=10]: 0.2786 - Recall@[max_detections=100]: 0.2786 - Recall@[area=small]: 0.0000e+00 - Recall@[area=medium]: 0.2786 - Recall@[area=large]: 0.0000e+00\n",
      "Epoch 5/20\n"
     ]
    },
    {
     "name": "stderr",
     "output_type": "stream",
     "text": [
      "\n"
     ]
    },
    {
     "name": "stdout",
     "output_type": "stream",
     "text": [
      "63/63 [==============================] - ETA: 0s - loss: 0.3747 - box_loss: 0.2529 - classification_loss: 0.1218 - percent_boxes_matched_with_anchor: 0.9688"
     ]
    },
    {
     "name": "stderr",
     "output_type": "stream",
     "text": [
      "100%|██████████| 9/9 [00:05<00:00,  1.61it/s]"
     ]
    },
    {
     "name": "stdout",
     "output_type": "stream",
     "text": [
      "63/63 [==============================] - 70s 1s/step - loss: 0.3747 - box_loss: 0.2529 - classification_loss: 0.1218 - percent_boxes_matched_with_anchor: 0.9688 - MaP: 0.0059 - MaP@[IoU=50]: 0.0336 - MaP@[IoU=75]: 0.0022 - MaP@[area=small]: 0.0000e+00 - MaP@[area=medium]: 0.0279 - MaP@[area=large]: 0.0000e+00 - Recall@[max_detections=1]: 0.1437 - Recall@[max_detections=10]: 0.1437 - Recall@[max_detections=100]: 0.1437 - Recall@[area=small]: 0.0000e+00 - Recall@[area=medium]: 0.1437 - Recall@[area=large]: 0.0000e+00\n"
     ]
    },
    {
     "name": "stderr",
     "output_type": "stream",
     "text": [
      "\n"
     ]
    },
    {
     "name": "stdout",
     "output_type": "stream",
     "text": [
      "Epoch 6/20\n",
      "63/63 [==============================] - ETA: 0s - loss: 0.3058 - box_loss: 0.2114 - classification_loss: 0.0944 - percent_boxes_matched_with_anchor: 0.9688"
     ]
    },
    {
     "name": "stderr",
     "output_type": "stream",
     "text": [
      "100%|██████████| 9/9 [00:06<00:00,  1.43it/s]"
     ]
    },
    {
     "name": "stdout",
     "output_type": "stream",
     "text": [
      "63/63 [==============================] - 72s 1s/step - loss: 0.3058 - box_loss: 0.2114 - classification_loss: 0.0944 - percent_boxes_matched_with_anchor: 0.9688 - MaP: 0.0378 - MaP@[IoU=50]: 0.1097 - MaP@[IoU=75]: 0.0144 - MaP@[area=small]: 0.0000e+00 - MaP@[area=medium]: 0.1068 - MaP@[area=large]: 0.0000e+00 - Recall@[max_detections=1]: 0.2083 - Recall@[max_detections=10]: 0.2083 - Recall@[max_detections=100]: 0.2083 - Recall@[area=small]: 0.0000e+00 - Recall@[area=medium]: 0.2083 - Recall@[area=large]: 0.0000e+00\n",
      "Epoch 7/20\n"
     ]
    },
    {
     "name": "stderr",
     "output_type": "stream",
     "text": [
      "\n"
     ]
    },
    {
     "name": "stdout",
     "output_type": "stream",
     "text": [
      "39/63 [=================>............] - ETA: 27s - loss: 0.2521 - box_loss: 0.1809 - classification_loss: 0.0713 - percent_boxes_matched_with_anchor: 0.9688"
     ]
    }
   ],
   "source": [
    "from keras_cv import bounding_box\n",
    "\n",
    "def struc_transfer(data):\n",
    "    return data[\"images\"], bounding_box.to_dense(\n",
    "        data[\"bounding_boxes\"], max_boxes=32\n",
    "    )\n",
    "\n",
    "\n",
    "train_ds = train_dataset.map(struc_transfer, num_parallel_calls=tf.data.AUTOTUNE)\n",
    "eval_ds = test_dataset.map(struc_transfer, num_parallel_calls=tf.data.AUTOTUNE)\n",
    "\n",
    "\n",
    "history = model.fit(\n",
    "    train_ds,\n",
    "    epochs=20,\n",
    "    callbacks=[EvaluateCOCOMetricsCallback(eval_ds)]\n",
    ")\n"
   ]
  },
  {
   "cell_type": "code",
   "execution_count": 32,
   "metadata": {},
   "outputs": [],
   "source": [
    "\n",
    "from keras_cv import visualization\n",
    "import cv2\n",
    "\n",
    "inference_resizing = keras_cv.layers.Resizing(\n",
    "    128, 128, pad_to_aspect_ratio=True, bounding_box_format=\"xywh\"\n",
    ")\n",
    "\n"
   ]
  },
  {
   "cell_type": "code",
   "execution_count": 64,
   "metadata": {},
   "outputs": [
    {
     "name": "stdout",
     "output_type": "stream",
     "text": [
      "1/1 [==============================] - 1s 1s/step\n",
      "(1, [171.49306, 57.812862, 362.77786, 530.551])\n"
     ]
    }
   ],
   "source": [
    "\n",
    "\n",
    "def predict_img(img_path):\n",
    "    img = cv2.imread(img_path)\n",
    "    img = [img]\n",
    "    img = np.array(img)\n",
    "    img = inference_resizing(img)\n",
    "    prediction = model.predict(img)\n",
    "\n",
    "# y_pred is a bounding box Tensor:\n",
    "# {\"classes\": ..., boxes\": ...}\n",
    "    visualization.plot_bounding_box_gallery(\n",
    "        img,\n",
    "        value_range=(0, 255),\n",
    "        scale=5,\n",
    "        cols=1,\n",
    "        rows=1,\n",
    "        show=True,\n",
    "        font_scale=0.5,\n",
    "        y_pred=prediction,\n",
    "        bounding_box_format=\"xywh\",\n",
    "        class_mapping=CLASSES,\n",
    "    )\n",
    "    \n",
    "    \n",
    "\n",
    "    return prediction['classes'][0][0], list(prediction['boxes'][0][0] * 2.5)\n",
    "print(predict_img('archive/valid/valid/image_id_000.jpg'))"
   ]
  },
  {
   "cell_type": "code",
   "execution_count": 43,
   "metadata": {},
   "outputs": [
    {
     "name": "stdout",
     "output_type": "stream",
     "text": [
      "1/1 [==============================] - 1s 990ms/step\n",
      "1/1 [==============================] - 1s 966ms/step\n",
      "1/1 [==============================] - 1s 870ms/step\n",
      "1/1 [==============================] - 1s 957ms/step\n",
      "1/1 [==============================] - 1s 937ms/step\n",
      "1/1 [==============================] - 1s 1s/step\n",
      "1/1 [==============================] - 1s 1s/step\n",
      "1/1 [==============================] - 1s 930ms/step\n",
      "1/1 [==============================] - 1s 935ms/step\n",
      "1/1 [==============================] - 1s 963ms/step\n",
      "1/1 [==============================] - 1s 975ms/step\n",
      "1/1 [==============================] - 1s 941ms/step\n",
      "1/1 [==============================] - 1s 935ms/step\n",
      "1/1 [==============================] - 1s 918ms/step\n",
      "1/1 [==============================] - 1s 961ms/step\n",
      "1/1 [==============================] - 1s 951ms/step\n",
      "1/1 [==============================] - 1s 882ms/step\n",
      "1/1 [==============================] - 1s 896ms/step\n",
      "1/1 [==============================] - 1s 948ms/step\n",
      "1/1 [==============================] - 1s 921ms/step\n",
      "1/1 [==============================] - 1s 1s/step\n",
      "1/1 [==============================] - 1s 995ms/step\n",
      "1/1 [==============================] - 1s 967ms/step\n",
      "1/1 [==============================] - 1s 993ms/step\n",
      "1/1 [==============================] - 1s 990ms/step\n",
      "1/1 [==============================] - 1s 921ms/step\n",
      "1/1 [==============================] - 1s 939ms/step\n",
      "1/1 [==============================] - 1s 978ms/step\n",
      "1/1 [==============================] - 1s 978ms/step\n",
      "1/1 [==============================] - 1s 988ms/step\n",
      "1/1 [==============================] - 1s 887ms/step\n",
      "1/1 [==============================] - 1s 945ms/step\n",
      "1/1 [==============================] - 1s 952ms/step\n",
      "1/1 [==============================] - 1s 896ms/step\n",
      "1/1 [==============================] - 1s 941ms/step\n",
      "1/1 [==============================] - 1s 951ms/step\n",
      "1/1 [==============================] - 1s 892ms/step\n",
      "1/1 [==============================] - 1s 970ms/step\n",
      "1/1 [==============================] - 1s 910ms/step\n",
      "1/1 [==============================] - 1s 968ms/step\n",
      "1/1 [==============================] - 1s 887ms/step\n",
      "1/1 [==============================] - 1s 1s/step\n",
      "1/1 [==============================] - 1s 944ms/step\n",
      "1/1 [==============================] - 1s 962ms/step\n",
      "1/1 [==============================] - 1s 922ms/step\n",
      "1/1 [==============================] - 1s 883ms/step\n",
      "1/1 [==============================] - 1s 885ms/step\n",
      "1/1 [==============================] - 1s 970ms/step\n",
      "1/1 [==============================] - 1s 951ms/step\n",
      "1/1 [==============================] - 1s 908ms/step\n",
      "1/1 [==============================] - 1s 926ms/step\n",
      "1/1 [==============================] - 1s 900ms/step\n",
      "1/1 [==============================] - 1s 888ms/step\n",
      "1/1 [==============================] - 1s 882ms/step\n",
      "1/1 [==============================] - 1s 885ms/step\n",
      "1/1 [==============================] - 1s 883ms/step\n",
      "1/1 [==============================] - 1s 898ms/step\n",
      "1/1 [==============================] - 1s 906ms/step\n",
      "1/1 [==============================] - 1s 872ms/step\n",
      "1/1 [==============================] - 1s 917ms/step\n",
      "1/1 [==============================] - 1s 943ms/step\n",
      "1/1 [==============================] - 1s 996ms/step\n",
      "1/1 [==============================] - 1s 1s/step\n",
      "1/1 [==============================] - 1s 1s/step\n",
      "1/1 [==============================] - 1s 1s/step\n",
      "1/1 [==============================] - 1s 1s/step\n",
      "1/1 [==============================] - 1s 966ms/step\n",
      "1/1 [==============================] - 1s 931ms/step\n",
      "1/1 [==============================] - 1s 904ms/step\n",
      "1/1 [==============================] - 1s 1s/step\n",
      "1/1 [==============================] - 1s 939ms/step\n",
      "1/1 [==============================] - 1s 906ms/step\n"
     ]
    }
   ],
   "source": [
    "# test Detection performance\n",
    "\n",
    "import math\n",
    "\n",
    "def cal_IOU(box_one, box_two):\n",
    "    # bounding box 1  - (x_min, y_min, score, width, height, all in pixels)\n",
    "    # bounding box 1  - (x_min, y_min, score, width, height, all in pixels)\n",
    "    x_min_1 = box_one[0]\n",
    "    y_min_1 = box_one[1]\n",
    "    x_min_2 = box_two[0]\n",
    "    y_min_2 = box_two[1]\n",
    "    \n",
    "    x_max_1 = box_one[0] + box_one[3]\n",
    "    y_max_1 = box_one[1] + box_one[4]\n",
    "    x_max_2 = box_two[0] + box_two[3]\n",
    "    y_max_2 = box_two[1] + box_two[4]\n",
    "\n",
    "    # calculate the intersection\n",
    "    x_inter = max(0, min(x_max_1, x_max_2) - max(x_min_1, x_min_2))\n",
    "    y_inter = max(0, min(y_max_1, y_max_2) - max(y_min_1, y_min_2))\n",
    "    inter = x_inter * y_inter\n",
    "\n",
    "    area_one = box_one[5]\n",
    "    area_two = box_two[5]\n",
    "\n",
    "    # calculate the union\n",
    "    union = area_one + area_two - inter\n",
    "    #IOU\n",
    "    if union == 0:\n",
    "        return 0\n",
    "    return float(inter / union)\n",
    "\n",
    "def cal_distance(true_box, predict_box):\n",
    "    x_max_true = true_box[0] + true_box[2]\n",
    "    y_max_true = true_box[1] + true_box[3]\n",
    "    # find the center points of true boxes and predict boxes\n",
    "    center_x_true = (true_box[0] + x_max_true)/2\n",
    "    center_y_true = (true_box[1] + y_max_true)/2\n",
    "    \n",
    "    x_max_pre = predict_box[0] + predict_box[2]\n",
    "    y_max_pre = predict_box[1] + predict_box[3]\n",
    "    # find the center points of true boxes and predict boxes\n",
    "    center_x_pre = (predict_box[0] + x_max_pre)/2\n",
    "    center_y_pre = (predict_box[1] + y_max_pre)/2\n",
    "    \n",
    "    # calculate the distance\n",
    "    distance = math.sqrt(abs(center_x_pre - center_x_true)**2 + abs(center_y_pre - center_y_true)**2)\n",
    "    return distance\n",
    "\n",
    "\n",
    "distance_dict = {}\n",
    "distance_id = 0\n",
    "distance_list = []\n",
    "iou_list = []\n",
    "test_img_path = 'archive/valid/valid'\n",
    "test_annotations = preprocess_annotations('archive/valid_annotations')\n",
    "for i_path in os.listdir(test_img_path):\n",
    "    id = int(i_path.split('_')[2][0:3])\n",
    "    true_bbox = test_annotations['bbox'][id]\n",
    "    \n",
    "    pre_box = predict_img('archive/valid/valid/' + i_path)[1]\n",
    "    distance = cal_distance(true_bbox, pre_box)\n",
    "    distance_dict[distance_id] = distance\n",
    "    distance_id += 1\n",
    "    distance_list.append(distance)\n",
    "    \n",
    "    true_bbox.insert(2,0)\n",
    "\n",
    "    true_bbox.append(true_bbox[3] * true_bbox[4])\n",
    " \n",
    "    pre_box.insert(2,0)\n",
    "    pre_box.append(pre_box[3] * pre_box[4])\n",
    "\n",
    "    iou = cal_IOU(true_bbox,pre_box)\n",
    "    iou_list.append(iou)\n"
   ]
  },
  {
   "cell_type": "code",
   "execution_count": 44,
   "metadata": {},
   "outputs": [
    {
     "name": "stdout",
     "output_type": "stream",
     "text": [
      "mean of the distances:  149.91541377266074\n",
      "standard deviation of the distances: 209.77676282423943\n",
      "mean of the iou:  0.5000014094065798\n",
      "standard deviation of the iou: 0.3199969305547923\n"
     ]
    }
   ],
   "source": [
    "print(\"mean of the distances: \", np.mean(distance_list))\n",
    "print(\"standard deviation of the distances:\", np.std(np.array(distance_list)))\n",
    "\n",
    "print(\"mean of the iou: \", np.mean(iou_list))\n",
    "print(\"standard deviation of the iou:\", np.std(np.array(iou_list)))\n"
   ]
  },
  {
   "cell_type": "code",
   "execution_count": 45,
   "metadata": {},
   "outputs": [
    {
     "name": "stdout",
     "output_type": "stream",
     "text": [
      "1/1 [==============================] - 1s 909ms/step\n",
      "1/1 [==============================] - 1s 972ms/step\n",
      "1/1 [==============================] - 1s 962ms/step\n",
      "1/1 [==============================] - 1s 997ms/step\n",
      "1/1 [==============================] - 1s 992ms/step\n",
      "1/1 [==============================] - 1s 972ms/step\n",
      "1/1 [==============================] - 1s 891ms/step\n",
      "1/1 [==============================] - 1s 840ms/step\n",
      "1/1 [==============================] - 1s 959ms/step\n",
      "1/1 [==============================] - 1s 1s/step\n",
      "1/1 [==============================] - 1s 938ms/step\n",
      "1/1 [==============================] - 1s 970ms/step\n",
      "1/1 [==============================] - 1s 960ms/step\n",
      "1/1 [==============================] - 1s 965ms/step\n",
      "1/1 [==============================] - 1s 945ms/step\n",
      "1/1 [==============================] - 1s 1s/step\n",
      "1/1 [==============================] - 1s 961ms/step\n",
      "1/1 [==============================] - 1s 883ms/step\n",
      "1/1 [==============================] - 1s 949ms/step\n",
      "1/1 [==============================] - 1s 941ms/step\n",
      "1/1 [==============================] - 1s 888ms/step\n",
      "1/1 [==============================] - 1s 869ms/step\n",
      "1/1 [==============================] - 1s 983ms/step\n",
      "1/1 [==============================] - 1s 918ms/step\n",
      "1/1 [==============================] - 1s 818ms/step\n",
      "1/1 [==============================] - 1s 805ms/step\n",
      "1/1 [==============================] - 1s 814ms/step\n",
      "1/1 [==============================] - 1s 827ms/step\n",
      "1/1 [==============================] - 1s 808ms/step\n",
      "1/1 [==============================] - 1s 831ms/step\n",
      "1/1 [==============================] - 1s 815ms/step\n",
      "1/1 [==============================] - 1s 814ms/step\n",
      "1/1 [==============================] - 1s 839ms/step\n",
      "1/1 [==============================] - 1s 959ms/step\n",
      "1/1 [==============================] - 1s 877ms/step\n",
      "1/1 [==============================] - 1s 867ms/step\n",
      "1/1 [==============================] - 1s 893ms/step\n",
      "1/1 [==============================] - 1s 883ms/step\n",
      "1/1 [==============================] - 1s 842ms/step\n",
      "1/1 [==============================] - 1s 828ms/step\n",
      "1/1 [==============================] - 1s 957ms/step\n",
      "1/1 [==============================] - 1s 868ms/step\n",
      "1/1 [==============================] - 1s 831ms/step\n",
      "1/1 [==============================] - 1s 858ms/step\n",
      "1/1 [==============================] - 1s 853ms/step\n",
      "1/1 [==============================] - 1s 867ms/step\n",
      "1/1 [==============================] - 1s 860ms/step\n",
      "1/1 [==============================] - 1s 873ms/step\n",
      "1/1 [==============================] - 1s 874ms/step\n",
      "1/1 [==============================] - 1s 874ms/step\n",
      "1/1 [==============================] - 1s 884ms/step\n",
      "1/1 [==============================] - 1s 917ms/step\n",
      "1/1 [==============================] - 1s 881ms/step\n",
      "1/1 [==============================] - 1s 844ms/step\n",
      "1/1 [==============================] - 1s 908ms/step\n",
      "1/1 [==============================] - 1s 907ms/step\n",
      "1/1 [==============================] - 1s 887ms/step\n",
      "1/1 [==============================] - 1s 841ms/step\n",
      "1/1 [==============================] - 1s 849ms/step\n",
      "1/1 [==============================] - 1s 858ms/step\n",
      "1/1 [==============================] - 1s 930ms/step\n",
      "1/1 [==============================] - 1s 881ms/step\n",
      "1/1 [==============================] - 1s 887ms/step\n",
      "1/1 [==============================] - 1s 873ms/step\n",
      "1/1 [==============================] - 1s 883ms/step\n",
      "1/1 [==============================] - 1s 883ms/step\n",
      "1/1 [==============================] - 1s 896ms/step\n",
      "1/1 [==============================] - 1s 869ms/step\n",
      "1/1 [==============================] - 1s 843ms/step\n",
      "1/1 [==============================] - 1s 866ms/step\n",
      "1/1 [==============================] - 1s 893ms/step\n",
      "1/1 [==============================] - 1s 859ms/step\n"
     ]
    }
   ],
   "source": [
    "# test Classification performance\n",
    "classifier_dict = {}\n",
    "\n",
    "id = 0\n",
    "for i_path in os.listdir(test_img_path):\n",
    "    \n",
    "    pre_class = predict_img('archive/valid/valid/' + i_path)[0]\n",
    "    classifier_dict[id] = pre_class\n",
    "    id += 1"
   ]
  },
  {
   "cell_type": "code",
   "execution_count": 46,
   "metadata": {},
   "outputs": [
    {
     "name": "stdout",
     "output_type": "stream",
     "text": [
      "{0: 1, 1: 0, 2: 0, 3: -1, 4: 1, 5: 1, 6: 0, 7: 1, 8: 1, 9: 1, 10: -1, 11: 0, 12: 0, 13: -1, 14: 1, 15: -1, 16: 0, 17: 1, 18: -1, 19: 0, 20: 1, 21: -1, 22: 1, 23: 1, 24: 1, 25: 1, 26: -1, 27: -1, 28: -1, 29: 1, 30: -1, 31: 0, 32: 1, 33: 0, 34: -1, 35: 0, 36: 0, 37: 1, 38: -1, 39: -1, 40: -1, 41: 0, 42: 1, 43: 0, 44: -1, 45: 0, 46: 1, 47: 0, 48: 1, 49: 1, 50: -1, 51: -1, 52: 0, 53: 0, 54: 1, 55: 1, 56: 1, 57: 1, 58: -1, 59: -1, 60: 1, 61: 1, 62: 1, 63: 1, 64: 1, 65: 0, 66: 0, 67: 0, 68: 1, 69: 1, 70: 0, 71: 0}\n",
      "Precision: 0.8333333333333334\n",
      "Recall:  0.6818181818181818\n",
      "F1_score:  0.7499999999999999\n",
      "Accuracy:  0.7222222222222222\n"
     ]
    }
   ],
   "source": [
    "# 1 = penguin, 2 = turtle\n",
    "print(classifier_dict)\n",
    "index = 0\n",
    "TP = 0\n",
    "FP = 0\n",
    "TN = 0\n",
    "FN = 0\n",
    "while index < len(classifier_dict):\n",
    "    if classifier_dict[index] == 1:\n",
    "        if int(classifier_dict[index]) == int(test_annotations['category_id'][index]):\n",
    "            TP += 1\n",
    "        else:\n",
    "            FN += 1\n",
    "    if classifier_dict[index] == 0:\n",
    "        if int(classifier_dict[index]) == int(test_annotations['category_id'][index]):\n",
    "            TN += 1\n",
    "        else:\n",
    "            FP += 1\n",
    "    if classifier_dict[index] == -1:\n",
    "        if int(test_annotations['category_id'][index]) == 1:\n",
    "            FP += 1\n",
    "        else: \n",
    "            FN += 1\n",
    "        \n",
    "    index += 1\n",
    "Precision = TP / (TP + FP)\n",
    "Recall = TP / (TP + FN)\n",
    "F1_score = 2 * (Precision * Recall) / (Precision + Recall)\n",
    "Accuracy = (TP + TN)/(TP + FN + FP + TN)\n",
    "print(\"Precision:\" , Precision)\n",
    "print(\"Recall: \", Recall)\n",
    "print(\"F1_score: \",  F1_score)\n",
    "print(\"Accuracy: \",  Accuracy)"
   ]
  },
  {
   "cell_type": "code",
   "execution_count": 47,
   "metadata": {},
   "outputs": [
    {
     "name": "stdout",
     "output_type": "stream",
     "text": [
      "confusion matrix: \n",
      " [[30 14]\n",
      " [ 6 22]]\n"
     ]
    }
   ],
   "source": [
    "def confusion_matrix(TP, TN, FP, FN):\n",
    "    return np.array([[TP,FN],[FP,TN]])\n",
    "print(\"confusion matrix: \\n\", confusion_matrix(TP, TN, FP, FN))"
   ]
  },
  {
   "cell_type": "code",
   "execution_count": 63,
   "metadata": {},
   "outputs": [
    {
     "name": "stdout",
     "output_type": "stream",
     "text": [
      "1/1 [==============================] - 1s 866ms/step\n",
      "23 87 539 454\n"
     ]
    },
    {
     "data": {
      "image/png": "[encoded data removed]",
      "text/plain": [
       "<Figure size 576x288 with 2 Axes>"
      ]
     },
     "metadata": {
      "needs_background": "light"
     },
     "output_type": "display_data"
    }
   ],
   "source": [
    "import cv2\n",
    "nrows = 1\n",
    "ncols = 2\n",
    "\n",
    "font = cv2.FONT_HERSHEY_COMPLEX\n",
    "color = (10,20,20)\n",
    "def draw_img(img_path):\n",
    "\n",
    "    col,row,width,height = predict_img(img_path)[1]\n",
    "   \n",
    "    img_pre = cv2.imread(img_path)\n",
    "    fig, axes = plt.subplots(nrows=nrows, ncols=ncols, figsize=(ncols*4, nrows*4))\n",
    "    pre_word = ''\n",
    "    if classifier_dict[int(img_path[-7:-4])] == 1:\n",
    "        pre_word = 'penguin'\n",
    "    if classifier_dict[int(img_path[-7:-4])] == 0:\n",
    "        pre_word = 'turtle'\n",
    "    pre_word_draw = pre_word + '(pre)'\n",
    "    cv2.rectangle(img_pre, pt1=(int(col), int(row)), pt2=(int(col)+int(width), int(row)+int(height)), color=(0, 255, 0), thickness=4)\n",
    "    cv2.putText(img_pre, pre_word_draw,(100,150),font,2, color,3)\n",
    "        \n",
    "    img_draw_true = cv2.imread(img_path)\n",
    "\n",
    "    true_col = test_annotations['bbox'][int(img_path[-7:-4])][0]\n",
    "    true_row = test_annotations['bbox'][int(img_path[-7:-4])][1]\n",
    "    true_width = test_annotations['bbox'][int(img_path[-7:-4])][3]\n",
    "    true_height = test_annotations['bbox'][int(img_path[-7:-4])][4]\n",
    "    true_word = ''\n",
    "    print(true_col,true_row,true_width,true_height)\n",
    "    if int(test_annotations['category_id'][int(img_path[-7:-4])]) == 1:\n",
    "        true_word = 'penguin'\n",
    "    else:\n",
    "        true_word = 'turtle'\n",
    "    true_word_draw = true_word + '(true)'\n",
    "    cv2.rectangle(img_draw_true, pt1=(true_col, true_row), pt2=(true_col+true_width, true_row+true_height), color=(0, 255, 0), thickness=4)\n",
    "    cv2.putText(img_draw_true , true_word_draw,(100,150),font,2, color,3)\n",
    "\n",
    "    axes[0].imshow(img_draw_true)\n",
    "    axes[1].imshow(img_pre)\n",
    "draw_img('archive/valid/valid/image_id_070.jpg')"
   ]
  }
 ],
 "metadata": {
  "kernelspec": {
   "display_name": "Python 3",
   "language": "python",
   "name": "python3"
  },
  "language_info": {
   "codemirror_mode": {
    "name": "ipython",
    "version": 3
   },
   "file_extension": ".py",
   "mimetype": "text/x-python",
   "name": "python",
   "nbconvert_exporter": "python",
   "pygments_lexer": "ipython3",
   "version": "3.10.5"
  },
  "orig_nbformat": 4
 },
 "nbformat": 4,
 "nbformat_minor": 2
}
